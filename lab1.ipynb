{
 "cells": [
  {
   "cell_type": "code",
   "execution_count": null,
   "metadata": {},
   "outputs": [],
   "source": [
    "#It features a dynamic type system and automatic memory management.\n"
   ]
  },
  {
   "cell_type": "code",
   "execution_count": null,
   "metadata": {},
   "outputs": [],
   "source": [
    "#Machine learning, artificial intelligence (AI), Big Data, and Robotics all rely heavily on Python.\n"
   ]
  },
  {
   "cell_type": "code",
   "execution_count": null,
   "metadata": {},
   "outputs": [],
   "source": [
    "user = input(\"Input the String :\")\n",
    "print(user)"
   ]
  },
  {
   "cell_type": "code",
   "execution_count": 1,
   "metadata": {},
   "outputs": [
    {
     "name": "stdout",
     "output_type": "stream",
     "text": [
      "INPUT BY KG:70\n",
      "INPUT BY meters: 1.7\n",
      "24 : Healthy\n"
     ]
    }
   ],
   "source": [
    "kg = float(input(\"INPUT BY KG:\"))\n",
    "height= float(input(\"INPUT BY meters: \"))\n",
    "bmi = round(kg/(height*height))\n",
    "if (bmi<18.5):\n",
    "    print(bmi,\": Thin\")\n",
    "elif(bmi<24.9):\n",
    "    print(bmi,\": Healthy\")\n",
    "elif(bmi<29.9):\n",
    "    print(bmi,\": OverWeight\")\n",
    "else:\n",
    "    print(bmi,\"Obese\")"
   ]
  },
  {
   "cell_type": "code",
   "execution_count": 2,
   "metadata": {
    "scrolled": true
   },
   "outputs": [
    {
     "name": "stdout",
     "output_type": "stream",
     "text": [
      "The L.C.M. of 54 and 24 is 216\n"
     ]
    }
   ],
   "source": [
    "\n",
    "def lcm(x, y):\n",
    "\n",
    "\n",
    "\n",
    "   if x > y:\n",
    "       greater = x\n",
    "   else:\n",
    "       greater = y\n",
    "\n",
    "   while(True):\n",
    "       if((greater % x == 0) and (greater % y == 0)):\n",
    "           lcm = greater\n",
    "           break\n",
    "       greater += 1\n",
    "\n",
    "   return lcm\n",
    "\n",
    "\n",
    "num1 = int(input(\"input the number1:\"))\n",
    "num2 = int(input(\"input the number2:\"))\n",
    "\n",
    "print(\"The L.C.M. of\", num1,\"and\", num2,\"is\", lcm(num1, num2))\n"
   ]
  },
  {
   "cell_type": "code",
   "execution_count": null,
   "metadata": {},
   "outputs": [],
   "source": []
  }
 ],
 "metadata": {
  "kernelspec": {
   "display_name": "Python 3",
   "language": "python",
   "name": "python3"
  },
  "language_info": {
   "codemirror_mode": {
    "name": "ipython",
    "version": 3
   },
   "file_extension": ".py",
   "mimetype": "text/x-python",
   "name": "python",
   "nbconvert_exporter": "python",
   "pygments_lexer": "ipython3",
   "version": "3.7.3"
  }
 },
 "nbformat": 4,
 "nbformat_minor": 2
}
