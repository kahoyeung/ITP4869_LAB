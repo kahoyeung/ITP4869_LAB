{
 "cells": [
  {
   "cell_type": "code",
   "execution_count": 2,
   "metadata": {
    "collapsed": true,
    "pycharm": {
     "is_executing": false
    }
   },
   "outputs": [],
   "source": [
    "import pandas as pd\n",
    "import numpy as np"
   ]
  },
  {
   "cell_type": "code",
   "execution_count": 3,
   "outputs": [
    {
     "data": {
      "text/plain": "  area district candidate  votes\n0   HK      HKI      IpLS  60760\n1   KL      KLE      WuCW  50309\n2   KL      KLW  CheungLW  52541\n3   NT      NTE   HoEliza  48063\n4   NT      NTW     ChuHD  84121",
      "text/html": "<div>\n<style scoped>\n    .dataframe tbody tr th:only-of-type {\n        vertical-align: middle;\n    }\n\n    .dataframe tbody tr th {\n        vertical-align: top;\n    }\n\n    .dataframe thead th {\n        text-align: right;\n    }\n</style>\n<table border=\"1\" class=\"dataframe\">\n  <thead>\n    <tr style=\"text-align: right;\">\n      <th></th>\n      <th>area</th>\n      <th>district</th>\n      <th>candidate</th>\n      <th>votes</th>\n    </tr>\n  </thead>\n  <tbody>\n    <tr>\n      <th>0</th>\n      <td>HK</td>\n      <td>HKI</td>\n      <td>IpLS</td>\n      <td>60760</td>\n    </tr>\n    <tr>\n      <th>1</th>\n      <td>KL</td>\n      <td>KLE</td>\n      <td>WuCW</td>\n      <td>50309</td>\n    </tr>\n    <tr>\n      <th>2</th>\n      <td>KL</td>\n      <td>KLW</td>\n      <td>CheungLW</td>\n      <td>52541</td>\n    </tr>\n    <tr>\n      <th>3</th>\n      <td>NT</td>\n      <td>NTE</td>\n      <td>HoEliza</td>\n      <td>48063</td>\n    </tr>\n    <tr>\n      <th>4</th>\n      <td>NT</td>\n      <td>NTW</td>\n      <td>ChuHD</td>\n      <td>84121</td>\n    </tr>\n  </tbody>\n</table>\n</div>"
     },
     "metadata": {},
     "output_type": "execute_result",
     "execution_count": 3
    }
   ],
   "source": [
    "#Q1(a)"
   ],
   "metadata": {
    "collapsed": false,
    "pycharm": {
     "name": "#%%\n",
     "is_executing": false
    }
   }
  },
  {
   "cell_type": "code",
   "execution_count": null,
   "outputs": [],
   "source": [
    "e2019 = pd.read_csv(\"election2019.csv\")\n",
    "e2019=pd.DataFrame(e2019)\n",
    "e2019"
   ],
   "metadata": {
    "collapsed": false,
    "pycharm": {
     "name": "#%%\n"
    }
   }
  },
  {
   "cell_type": "code",
   "execution_count": 4,
   "outputs": [
    {
     "data": {
      "text/plain": "       votes\narea        \nNT    132184\nKL    102850\nHK     60760",
      "text/html": "<div>\n<style scoped>\n    .dataframe tbody tr th:only-of-type {\n        vertical-align: middle;\n    }\n\n    .dataframe tbody tr th {\n        vertical-align: top;\n    }\n\n    .dataframe thead th {\n        text-align: right;\n    }\n</style>\n<table border=\"1\" class=\"dataframe\">\n  <thead>\n    <tr style=\"text-align: right;\">\n      <th></th>\n      <th>votes</th>\n    </tr>\n    <tr>\n      <th>area</th>\n      <th></th>\n    </tr>\n  </thead>\n  <tbody>\n    <tr>\n      <th>NT</th>\n      <td>132184</td>\n    </tr>\n    <tr>\n      <th>KL</th>\n      <td>102850</td>\n    </tr>\n    <tr>\n      <th>HK</th>\n      <td>60760</td>\n    </tr>\n  </tbody>\n</table>\n</div>"
     },
     "metadata": {},
     "output_type": "execute_result",
     "execution_count": 4
    }
   ],
   "source": [
    "#Q1(b)\n",
    "e2019.groupby(['area']).sum().sort_index(ascending=False)"
   ],
   "metadata": {
    "collapsed": false,
    "pycharm": {
     "name": "#%%\n",
     "is_executing": false
    }
   }
  },
  {
   "cell_type": "code",
   "execution_count": 5,
   "outputs": [
    {
     "data": {
      "text/plain": "  area district candidate  votes               Camp\n0   HK      HKI      IpLS  60760     Pan-democratic\n1   KL      KLE      WuCW  50309  Pro-establishment\n2   KL      KLW  CheungLW  52541             Others\n3   NT      NTE   HoEliza  48063  Pro-establishment\n4   NT      NTW     ChuHD  84121     Pan-democratic",
      "text/html": "<div>\n<style scoped>\n    .dataframe tbody tr th:only-of-type {\n        vertical-align: middle;\n    }\n\n    .dataframe tbody tr th {\n        vertical-align: top;\n    }\n\n    .dataframe thead th {\n        text-align: right;\n    }\n</style>\n<table border=\"1\" class=\"dataframe\">\n  <thead>\n    <tr style=\"text-align: right;\">\n      <th></th>\n      <th>area</th>\n      <th>district</th>\n      <th>candidate</th>\n      <th>votes</th>\n      <th>Camp</th>\n    </tr>\n  </thead>\n  <tbody>\n    <tr>\n      <th>0</th>\n      <td>HK</td>\n      <td>HKI</td>\n      <td>IpLS</td>\n      <td>60760</td>\n      <td>Pan-democratic</td>\n    </tr>\n    <tr>\n      <th>1</th>\n      <td>KL</td>\n      <td>KLE</td>\n      <td>WuCW</td>\n      <td>50309</td>\n      <td>Pro-establishment</td>\n    </tr>\n    <tr>\n      <th>2</th>\n      <td>KL</td>\n      <td>KLW</td>\n      <td>CheungLW</td>\n      <td>52541</td>\n      <td>Others</td>\n    </tr>\n    <tr>\n      <th>3</th>\n      <td>NT</td>\n      <td>NTE</td>\n      <td>HoEliza</td>\n      <td>48063</td>\n      <td>Pro-establishment</td>\n    </tr>\n    <tr>\n      <th>4</th>\n      <td>NT</td>\n      <td>NTW</td>\n      <td>ChuHD</td>\n      <td>84121</td>\n      <td>Pan-democratic</td>\n    </tr>\n  </tbody>\n</table>\n</div>"
     },
     "metadata": {},
     "output_type": "execute_result",
     "execution_count": 5
    }
   ],
   "source": [
    "#Q1(c)\n",
    "e2019['Camp']=['Pan-democratic', \n",
    "               'Pro-establishment', \n",
    "               'Others', \n",
    "               'Pro-establishment',\n",
    "               'Pan-democratic']\n",
    "e2019"
   ],
   "metadata": {
    "collapsed": false,
    "pycharm": {
     "name": "#%%\n",
     "is_executing": false
    }
   }
  },
  {
   "cell_type": "code",
   "execution_count": 8,
   "outputs": [
    {
     "data": {
      "text/plain": "                     votes\nCamp                      \nOthers             52541.0\nPan-democratic     72440.5\nPro-establishment  49186.0",
      "text/html": "<div>\n<style scoped>\n    .dataframe tbody tr th:only-of-type {\n        vertical-align: middle;\n    }\n\n    .dataframe tbody tr th {\n        vertical-align: top;\n    }\n\n    .dataframe thead th {\n        text-align: right;\n    }\n</style>\n<table border=\"1\" class=\"dataframe\">\n  <thead>\n    <tr style=\"text-align: right;\">\n      <th></th>\n      <th>votes</th>\n    </tr>\n    <tr>\n      <th>Camp</th>\n      <th></th>\n    </tr>\n  </thead>\n  <tbody>\n    <tr>\n      <th>Others</th>\n      <td>52541.0</td>\n    </tr>\n    <tr>\n      <th>Pan-democratic</th>\n      <td>72440.5</td>\n    </tr>\n    <tr>\n      <th>Pro-establishment</th>\n      <td>49186.0</td>\n    </tr>\n  </tbody>\n</table>\n</div>"
     },
     "metadata": {},
     "output_type": "execute_result",
     "execution_count": 8
    }
   ],
   "source": [
    "e2019.groupby(['Camp']).mean().sort_index(ascending=True)"
   ],
   "metadata": {
    "collapsed": false,
    "pycharm": {
     "name": "#%%\n",
     "is_executing": false
    }
   }
  },
  {
   "cell_type": "code",
   "execution_count": null,
   "outputs": [],
   "source": [
    "#Q2"
   ],
   "metadata": {
    "collapsed": false,
    "pycharm": {
     "name": "#%%\n"
    }
   }
  },
  {
   "cell_type": "code",
   "execution_count": 10,
   "outputs": [
    {
     "data": {
      "text/plain": "   account number                         name       sku  quantity  \\\n0          740150                   Barton LLC  B1-20000        39   \n1          714466              Trantow-Barrows  S2-77896        -1   \n2          218895                    Kulas Inc  B1-69924        23   \n3          307599  Kassulke, Ondricka and Metz  S1-65481        41   \n4          412290                Jerde-Hilpert  S2-34077         6   \n\n   unit price  ext price            date sku prefix  \n0       86.69    3380.91   1/1/2018 7:21         B1  \n1       63.16     -63.16  1/1/2018 10:00         S2  \n2       90.70    2086.10  1/1/2018 13:24         B1  \n3       21.05     863.05  1/1/2018 15:05         S1  \n4       83.21     499.26  1/1/2018 23:26         S2  ",
      "text/html": "<div>\n<style scoped>\n    .dataframe tbody tr th:only-of-type {\n        vertical-align: middle;\n    }\n\n    .dataframe tbody tr th {\n        vertical-align: top;\n    }\n\n    .dataframe thead th {\n        text-align: right;\n    }\n</style>\n<table border=\"1\" class=\"dataframe\">\n  <thead>\n    <tr style=\"text-align: right;\">\n      <th></th>\n      <th>account number</th>\n      <th>name</th>\n      <th>sku</th>\n      <th>quantity</th>\n      <th>unit price</th>\n      <th>ext price</th>\n      <th>date</th>\n      <th>sku prefix</th>\n    </tr>\n  </thead>\n  <tbody>\n    <tr>\n      <th>0</th>\n      <td>740150</td>\n      <td>Barton LLC</td>\n      <td>B1-20000</td>\n      <td>39</td>\n      <td>86.69</td>\n      <td>3380.91</td>\n      <td>1/1/2018 7:21</td>\n      <td>B1</td>\n    </tr>\n    <tr>\n      <th>1</th>\n      <td>714466</td>\n      <td>Trantow-Barrows</td>\n      <td>S2-77896</td>\n      <td>-1</td>\n      <td>63.16</td>\n      <td>-63.16</td>\n      <td>1/1/2018 10:00</td>\n      <td>S2</td>\n    </tr>\n    <tr>\n      <th>2</th>\n      <td>218895</td>\n      <td>Kulas Inc</td>\n      <td>B1-69924</td>\n      <td>23</td>\n      <td>90.70</td>\n      <td>2086.10</td>\n      <td>1/1/2018 13:24</td>\n      <td>B1</td>\n    </tr>\n    <tr>\n      <th>3</th>\n      <td>307599</td>\n      <td>Kassulke, Ondricka and Metz</td>\n      <td>S1-65481</td>\n      <td>41</td>\n      <td>21.05</td>\n      <td>863.05</td>\n      <td>1/1/2018 15:05</td>\n      <td>S1</td>\n    </tr>\n    <tr>\n      <th>4</th>\n      <td>412290</td>\n      <td>Jerde-Hilpert</td>\n      <td>S2-34077</td>\n      <td>6</td>\n      <td>83.21</td>\n      <td>499.26</td>\n      <td>1/1/2018 23:26</td>\n      <td>S2</td>\n    </tr>\n  </tbody>\n</table>\n</div>"
     },
     "metadata": {},
     "output_type": "execute_result",
     "execution_count": 10
    }
   ],
   "source": [
    "sdf = pd.read_csv(\"sales.csv\")\n",
    "sdf.head()"
   ],
   "metadata": {
    "collapsed": false,
    "pycharm": {
     "name": "#%%\n",
     "is_executing": false
    }
   }
  },
  {
   "cell_type": "code",
   "execution_count": 19,
   "outputs": [
    {
     "data": {
      "text/plain": "            ext price\nsku prefix           \nB1            1347.96\nS1            1339.49\nS2            1348.83",
      "text/html": "<div>\n<style scoped>\n    .dataframe tbody tr th:only-of-type {\n        vertical-align: middle;\n    }\n\n    .dataframe tbody tr th {\n        vertical-align: top;\n    }\n\n    .dataframe thead th {\n        text-align: right;\n    }\n</style>\n<table border=\"1\" class=\"dataframe\">\n  <thead>\n    <tr style=\"text-align: right;\">\n      <th></th>\n      <th>ext price</th>\n    </tr>\n    <tr>\n      <th>sku prefix</th>\n      <th></th>\n    </tr>\n  </thead>\n  <tbody>\n    <tr>\n      <th>B1</th>\n      <td>1347.96</td>\n    </tr>\n    <tr>\n      <th>S1</th>\n      <td>1339.49</td>\n    </tr>\n    <tr>\n      <th>S2</th>\n      <td>1348.83</td>\n    </tr>\n  </tbody>\n</table>\n</div>"
     },
     "metadata": {},
     "output_type": "execute_result",
     "execution_count": 19
    }
   ],
   "source": [
    "sdf.groupby([\"sku prefix\"])[[\"ext price\"]].mean().round(2)\n"
   ],
   "metadata": {
    "collapsed": false,
    "pycharm": {
     "name": "#%%\n",
     "is_executing": false
    }
   }
  }
 ],
 "metadata": {
  "language_info": {
   "codemirror_mode": {
    "name": "ipython",
    "version": 2
   },
   "file_extension": ".py",
   "mimetype": "text/x-python",
   "name": "python",
   "nbconvert_exporter": "python",
   "pygments_lexer": "ipython2",
   "version": "2.7.6"
  },
  "kernelspec": {
   "name": "python3",
   "language": "python",
   "display_name": "Python 3"
  },
  "pycharm": {
   "stem_cell": {
    "cell_type": "raw",
    "source": [],
    "metadata": {
     "collapsed": false
    }
   }
  }
 },
 "nbformat": 4,
 "nbformat_minor": 0
}