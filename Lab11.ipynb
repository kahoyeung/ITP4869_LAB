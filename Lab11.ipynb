{
 "cells": [
  {
   "cell_type": "code",
   "execution_count": 1,
   "metadata": {
    "collapsed": true,
    "pycharm": {
     "name": "#%%\n",
     "is_executing": false
    }
   },
   "outputs": [],
   "source": [
    "\n",
    "class city(object):\n",
    "    maxpopu = {'city':'','pop':0}\n",
    "    maxarea={'name':'','area':0}\n",
    "    maxpode = {'name':'','pode':0}\n",
    "    def __init__(self,city,area,pop):\n",
    "        self.city = city\n",
    "        self.area = int(area)\n",
    "        self.pop = int(pop)\n",
    "        \n",
    "        pope = pop / area        \n",
    "        \n",
    "        if pop >city.maxpopu[\"pop\"]:\n",
    "            city.maxpop['city']= city\n",
    "            city.maxpop['pop']=pop\n",
    "        if area>city.area['area']:\n",
    "            city.area['city']=city\n",
    "            city.area['area']=area\n",
    "        if pope> city.pop['pope']:\n",
    "            city.pop['city']=city\n",
    "            city.pop['pope'] = pope\n",
    "        \n",
    "        \n",
    "\n",
    "    def getarea(self):\n",
    "        print(\"The Country with the largest area: \",city.maxarea['city'])\n",
    "    def getpop(self):\n",
    "        print('The Country with the largest population',city.maxpopu['city'])\n",
    "    def getpode(self):\n",
    "        print(\"The Country with the largest population density :\",city.maxpode['city'])"
   ]
  },
  {
   "cell_type": "code",
   "execution_count": 13,
   "outputs": [
    {
     "traceback": [
      "\u001b[0;31m---------------------------------------------------------------------------\u001b[0m",
      "\u001b[0;31mAttributeError\u001b[0m                            Traceback (most recent call last)",
      "\u001b[0;32m<ipython-input-13-326c190e1e70>\u001b[0m in \u001b[0;36m<module>\u001b[0;34m\u001b[0m\n\u001b[0;32m----> 1\u001b[0;31m \u001b[0mHK\u001b[0m \u001b[0;34m=\u001b[0m \u001b[0mcity\u001b[0m\u001b[0;34m(\u001b[0m\u001b[0;34m'HONG KONG'\u001b[0m\u001b[0;34m,\u001b[0m\u001b[0;36m7\u001b[0m\u001b[0;34m,\u001b[0m\u001b[0;36m100\u001b[0m\u001b[0;34m)\u001b[0m\u001b[0;34m\u001b[0m\u001b[0;34m\u001b[0m\u001b[0m\n\u001b[0m\u001b[1;32m      2\u001b[0m \u001b[0mUS\u001b[0m \u001b[0;34m=\u001b[0m \u001b[0mcity\u001b[0m\u001b[0;34m(\u001b[0m\u001b[0;34m'USA'\u001b[0m\u001b[0;34m,\u001b[0m\u001b[0;36m100\u001b[0m\u001b[0;34m,\u001b[0m\u001b[0;36m1000\u001b[0m\u001b[0;34m)\u001b[0m\u001b[0;34m\u001b[0m\u001b[0;34m\u001b[0m\u001b[0m\n\u001b[1;32m      3\u001b[0m \u001b[0mCN\u001b[0m \u001b[0;34m=\u001b[0m \u001b[0mcity\u001b[0m\u001b[0;34m(\u001b[0m\u001b[0;34m'CHINA'\u001b[0m\u001b[0;34m,\u001b[0m\u001b[0;36m200\u001b[0m\u001b[0;34m,\u001b[0m\u001b[0;36m500\u001b[0m\u001b[0;34m)\u001b[0m\u001b[0;34m\u001b[0m\u001b[0;34m\u001b[0m\u001b[0m\n\u001b[1;32m      4\u001b[0m \u001b[0;34m\u001b[0m\u001b[0m\n\u001b[1;32m      5\u001b[0m \u001b[0mHK\u001b[0m\u001b[0;34m.\u001b[0m\u001b[0mgetarea\u001b[0m\u001b[0;34m(\u001b[0m\u001b[0;34m)\u001b[0m\u001b[0;34m\u001b[0m\u001b[0;34m\u001b[0m\u001b[0m\n",
      "\u001b[0;32m<ipython-input-12-73391d811994>\u001b[0m in \u001b[0;36m__init__\u001b[0;34m(self, city, area, pop)\u001b[0m\n\u001b[1;32m     11\u001b[0m         \u001b[0mpope\u001b[0m \u001b[0;34m=\u001b[0m \u001b[0mpop\u001b[0m \u001b[0;34m/\u001b[0m \u001b[0marea\u001b[0m\u001b[0;34m\u001b[0m\u001b[0;34m\u001b[0m\u001b[0m\n\u001b[1;32m     12\u001b[0m \u001b[0;34m\u001b[0m\u001b[0m\n\u001b[0;32m---> 13\u001b[0;31m         \u001b[0;32mif\u001b[0m \u001b[0mpop\u001b[0m \u001b[0;34m>\u001b[0m\u001b[0mcity\u001b[0m\u001b[0;34m.\u001b[0m\u001b[0mmaxpopu\u001b[0m\u001b[0;34m[\u001b[0m\u001b[0;34m\"pop\"\u001b[0m\u001b[0;34m]\u001b[0m\u001b[0;34m:\u001b[0m\u001b[0;34m\u001b[0m\u001b[0;34m\u001b[0m\u001b[0m\n\u001b[0m\u001b[1;32m     14\u001b[0m             \u001b[0mcity\u001b[0m\u001b[0;34m.\u001b[0m\u001b[0mmaxpop\u001b[0m\u001b[0;34m[\u001b[0m\u001b[0;34m'city'\u001b[0m\u001b[0;34m]\u001b[0m\u001b[0;34m=\u001b[0m \u001b[0mcity\u001b[0m\u001b[0;34m\u001b[0m\u001b[0;34m\u001b[0m\u001b[0m\n\u001b[1;32m     15\u001b[0m             \u001b[0mcity\u001b[0m\u001b[0;34m.\u001b[0m\u001b[0mmaxpop\u001b[0m\u001b[0;34m[\u001b[0m\u001b[0;34m'pop'\u001b[0m\u001b[0;34m]\u001b[0m\u001b[0;34m=\u001b[0m\u001b[0mpop\u001b[0m\u001b[0;34m\u001b[0m\u001b[0;34m\u001b[0m\u001b[0m\n",
      "\u001b[0;31mAttributeError\u001b[0m: 'str' object has no attribute 'maxpopu'"
     ],
     "ename": "AttributeError",
     "evalue": "'str' object has no attribute 'maxpopu'",
     "output_type": "error"
    }
   ],
   "source": [
    "HK = city('HONG KONG',7,100)\n",
    "US = city('USA',100,1000)\n",
    "CN = city('CHINA',200,500)\n",
    "\n",
    "HK.getarea()"
   ],
   "metadata": {
    "collapsed": false,
    "pycharm": {
     "name": "#%%\n",
     "is_executing": false
    }
   }
  }
 ],
 "metadata": {
  "language_info": {
   "codemirror_mode": {
    "name": "ipython",
    "version": 2
   },
   "file_extension": ".py",
   "mimetype": "text/x-python",
   "name": "python",
   "nbconvert_exporter": "python",
   "pygments_lexer": "ipython2",
   "version": "2.7.6"
  },
  "kernelspec": {
   "name": "python3",
   "language": "python",
   "display_name": "Python 3"
  },
  "pycharm": {
   "stem_cell": {
    "cell_type": "raw",
    "source": [],
    "metadata": {
     "collapsed": false
    }
   }
  }
 },
 "nbformat": 4,
 "nbformat_minor": 0
}