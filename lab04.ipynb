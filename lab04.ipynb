{
 "cells": [
  {
   "cell_type": "code",
   "execution_count": 1,
   "metadata": {},
   "outputs": [
    {
     "name": "stdout",
     "output_type": "stream",
     "text": [
      "input the String:python\n",
      "6\n"
     ]
    },
    {
     "data": {
      "text/plain": [
       "360"
      ]
     },
     "execution_count": 1,
     "metadata": {},
     "output_type": "execute_result"
    }
   ],
   "source": [
    "import math\n",
    "\n",
    "\n",
    "def p(n, r):\n",
    "    f = math.factorial\n",
    "    return int(f(n) / f(n - r))\n",
    "\n",
    "\n",
    "x = len(input(\"input the String:\"))\n",
    "print(x)\n",
    "p(x, 4)\n"
   ]
  },
  {
   "cell_type": "code",
   "execution_count": 1,
   "metadata": {},
   "outputs": [
    {
     "name": "stdout",
     "output_type": "stream",
     "text": [
      "Enter a month: 24\n",
      "Enter a day of month: 5\n",
      "Enter a year: 2019\n",
      "The Weekday of 24 - 5 - 2019 is  Friday\n"
     ]
    }
   ],
   "source": [
    " def switch(h):\n",
    "    return {\n",
    "        0: \"Saturday\",\n",
    "        1: \"Sunday\",\n",
    "        2: \"Monday\",\n",
    "        3: \"Tuesday\",\n",
    "        4: \"Wednesday\",\n",
    "        5: \"Thursday\",\n",
    "        6: \"Friday\",\n",
    "    }[h]\n",
    "\n",
    "\n",
    "def weekday(day, month, year):\n",
    "    if (month == 1):\n",
    "        month = 13\n",
    "        year = year - 1\n",
    "\n",
    "    if (month == 2):\n",
    "        month = 14\n",
    "        year = year - 1\n",
    "    q = day\n",
    "    m = month\n",
    "    k = year % 100;\n",
    "    j = year // 100;\n",
    "    h = q + 13 * (m + 1) // 5 + k + k // 4 + j // 4 + 5 * j\n",
    "    h = h % 7\n",
    "    print(\"The Weekday of\",day,\"-\",month,\"-\",year,\"is \",switch(h))\n",
    "\n",
    "weekday(day = int(input(\"Enter a month: \")),\n",
    "                 month= int(input(\"Enter a day of month: \")),\n",
    "                 year= int(input(\"Enter a year: \")))\n"
   ]
  },
  {
   "cell_type": "code",
   "execution_count": 4,
   "metadata": {},
   "outputs": [
    {
     "name": "stdout",
     "output_type": "stream",
     "text": [
      "input the string: I like Python programming\n",
      "I like Python programming\n",
      "Count of words:  4\n"
     ]
    }
   ],
   "source": [
    "sstring =input(\"input the string: \")\n",
    "def countWords():\n",
    "    print(sstring)\n",
    "    answers = len(sstring.split())\n",
    "    return answers\n",
    "\n",
    "\n",
    "print(\"Count of words: \",countWords())"
   ]
  },
  {
   "cell_type": "code",
   "execution_count": 5,
   "metadata": {},
   "outputs": [
    {
     "name": "stdout",
     "output_type": "stream",
     "text": [
      "Outcome\tOccurrence\n",
      "3\t32\n",
      "4\t71\n",
      "5\t140\n",
      "6\t255\n",
      "7\t323\n",
      "8\t503\n",
      "9\t565\n",
      "10\t574\n",
      "11\t639\n",
      "12\t631\n",
      "13\t485\n",
      "14\t352\n",
      "15\t199\n",
      "16\t143\n",
      "17\t65\n",
      "18\t23\n",
      "Total number of trials is 5000\n"
     ]
    }
   ],
   "source": [
    "import random\n",
    "result =[random.randint(1,6)+\n",
    "         random.randint(1,6)+\n",
    "         random.randint(1,6) for i in range(0,5000)]\n",
    "print(\"Outcome\\tOccurrence\")\n",
    "for i in range(3,18+1):\n",
    "     print(f\"{i}\\t{result.count(i)}\")\n",
    "print(\"Total number of trials is\",len(result))\n"
   ]
  },
  {
   "cell_type": "code",
   "execution_count": null,
   "metadata": {},
   "outputs": [],
   "source": []
  }
 ],
 "metadata": {
  "kernelspec": {
   "display_name": "Python 3",
   "language": "python",
   "name": "python3"
  },
  "language_info": {
   "codemirror_mode": {
    "name": "ipython",
    "version": 3
   },
   "file_extension": ".py",
   "mimetype": "text/x-python",
   "name": "python",
   "nbconvert_exporter": "python",
   "pygments_lexer": "ipython3",
   "version": "3.7.3"
  }
 },
 "nbformat": 4,
 "nbformat_minor": 2
}
