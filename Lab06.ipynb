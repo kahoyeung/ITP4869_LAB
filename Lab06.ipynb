{
 "cells": [
  {
   "cell_type": "markdown",
   "metadata": {},
   "source": [
    "# Question1"
   ]
  },
  {
   "cell_type": "code",
   "execution_count": 1,
   "metadata": {},
   "outputs": [
    {
     "name": "stdout",
     "output_type": "stream",
     "text": [
      "Day\n",
      "1     4850\n",
      "2     2811\n",
      "3     5745\n",
      "4     5471\n",
      "5     4494\n",
      "6     5761\n",
      "7     1749\n",
      "8     3084\n",
      "9     8432\n",
      "10    5216\n",
      "11    5112\n",
      "12    4217\n",
      "13     989\n",
      "14    8144\n",
      "15    6343\n",
      "16    5388\n",
      "17    4118\n",
      "18     287\n",
      "19    3183\n",
      "20    6460\n",
      "21    1555\n",
      "22    9663\n",
      "23    9023\n",
      "24    8186\n",
      "25    1548\n",
      "26    3420\n",
      "27    2293\n",
      "28    7803\n",
      "Name: Sales of February, dtype: int64\n",
      "{1: 4850, 2: 2811, 3: 5745, 4: 5471, 5: 4494, 6: 5761, 7: 1749, 8: 3084, 9: 8432, 10: 5216, 11: 5112, 12: 4217, 13: 989, 14: 8144, 15: 6343, 16: 5388, 17: 4118, 18: 287, 19: 3183, 20: 6460, 21: 1555, 22: 9663, 23: 9023, 24: 8186, 25: 1548, 26: 3420, 27: 2293, 28: 7803}\n",
      "12:  4217\n",
      "24:  8186\n"
     ]
    }
   ],
   "source": [
    "import pandas as pd\n",
    "import numpy as np\n",
    "ser = pd.Series(np.random.randint(101,10000,(28))\n",
    "                , index= pd.Series(np.arange(1,29))\n",
    "                ,name =\"Sales of February\")\n",
    "ser.index.name= \"Day\"\n",
    "print(ser)\n",
    "print(ser.to_dict())\n",
    "print(\"12: \",ser[12])\n",
    "print(\"24: \",ser[24])"
   ]
  },
  {
   "cell_type": "markdown",
   "metadata": {},
   "source": [
    "# Question2"
   ]
  },
  {
   "cell_type": "code",
   "execution_count": 2,
   "metadata": {},
   "outputs": [
    {
     "name": "stdout",
     "output_type": "stream",
     "text": [
      "210\n",
      "ParknShop      200\n",
      "GateWay        152\n",
      "Q Club         217\n",
      "3Hree Sixty    176\n",
      "Name: Apples, dtype: int64\n"
     ]
    }
   ],
   "source": [
    "import pandas as pd\n",
    "import numpy as np\n",
    "\n",
    "df = pd.DataFrame(\n",
    "    np.array([\n",
    "        [200,155,189,254,340],\n",
    "        [152,182,174,230,320],\n",
    "        [126,169,151,184,210],\n",
    "        [217,152,160,242,298],\n",
    "        [176,174,187,176,169]\n",
    "    ]),\n",
    "    columns=['Apples','Banans','Cherries','Grapes','Oranges'],\n",
    "    index=['ParknShop','GateWay','CitySuper','Q Club', '3Hree Sixty'])\n",
    "print(df.loc[\"CitySuper\",\"Oranges\"])\n",
    "print(df[df[\"Apples\"]>150][\"Apples\"])\n",
    "df[\"Total\"]=df.sum(axis =1)\n",
    "df.sort_values(\"Total\", inplace= True)\n"
   ]
  },
  {
   "cell_type": "markdown",
   "metadata": {},
   "source": [
    "# Question3"
   ]
  },
  {
   "cell_type": "code",
   "execution_count": 4,
   "metadata": {},
   "outputs": [
    {
     "name": "stdout",
     "output_type": "stream",
     "text": [
      "   index      company   body-style  wheel-base  length engine-type  \\\n",
      "0      0  alfa-romero  convertible        88.6   168.8        dohc   \n",
      "1      1  alfa-romero  convertible        88.6   168.8        dohc   \n",
      "2      2  alfa-romero    hatchback        94.5   171.2        ohcv   \n",
      "3      3         audi        sedan        99.8   176.6         ohc   \n",
      "4      4         audi        sedan        99.4   176.6         ohc   \n",
      "5      5         audi        sedan        99.8   177.3         ohc   \n",
      "6      6         audi        wagon       105.8   192.7         ohc   \n",
      "\n",
      "  num-of-cylinders  horsepower  average-mileage    price  \n",
      "0             four         111               21  13495.0  \n",
      "1             four         111               21  16500.0  \n",
      "2              six         154               19  16500.0  \n",
      "3             four         102               24  13950.0  \n",
      "4             five         115               18  17450.0  \n",
      "5             five         110               19  15250.0  \n",
      "6             five         110               19  18920.0  \n",
      "    index     company body-style  wheel-base  length engine-type  \\\n",
      "54     79      toyota      wagon       104.5   187.8        dohc   \n",
      "55     80  volkswagen      sedan        97.3   171.7         ohc   \n",
      "56     81  volkswagen      sedan        97.3   171.7         ohc   \n",
      "57     82  volkswagen      sedan        97.3   171.7         ohc   \n",
      "58     86  volkswagen      sedan        97.3   171.7         ohc   \n",
      "59     87       volvo      sedan       104.3   188.8         ohc   \n",
      "60     88       volvo      wagon       104.3   188.8         ohc   \n",
      "\n",
      "   num-of-cylinders  horsepower  average-mileage    price  \n",
      "54              six         156               19  15750.0  \n",
      "55             four          52               37   7775.0  \n",
      "56             four          85               27   7975.0  \n",
      "57             four          52               37   7995.0  \n",
      "58             four         100               26   9995.0  \n",
      "59             four         114               23  12940.0  \n",
      "60             four         114               23  13415.0  \n",
      "['price']\n",
      "135    mercedes-benz\n",
      "Name: company, dtype: object\n",
      "57518.0\n"
     ]
    }
   ],
   "source": [
    "import pandas as pd\n",
    "import numpy as np\n",
    "\n",
    "df=pd.read_csv(r'automobile.csv')\n",
    "print(df.iloc[:7])\n",
    "print(df.iloc[-7:])\n",
    "df.index = np.arange(100,100+61)\n",
    "print(df.columns[df.isnull().any()].tolist())\n",
    "print(df[df['price'] == max(df[\"price\"])]['company'])\n",
    "print(sum(df[df[\"company\"]=='toyota']['price']))\n"
   ]
  },
  {
   "cell_type": "markdown",
   "metadata": {},
   "source": [
    "# Question4"
   ]
  },
  {
   "cell_type": "code",
   "execution_count": 7,
   "metadata": {},
   "outputs": [],
   "source": [
    "import pandas as pd\n",
    "import numpy as np\n",
    "\n",
    "df = pd.DataFrame(\n",
    "    np.random.randn(6,5),\n",
    "    columns=['A','B','C','D','E'],\n",
    "    index=pd.date_range(start=\"01/01/2019\",periods = 6)\n",
    ")\n",
    "df2 = df.reindex(columns=['A','B','D','F'])\n",
    "df2['F']= np.random.randint(501,506,6)\n",
    "ser = df2.stack()\n"
   ]
  },
  {
   "cell_type": "markdown",
   "metadata": {},
   "source": [
    "# Question 5"
   ]
  },
  {
   "cell_type": "code",
   "execution_count": 8,
   "metadata": {},
   "outputs": [
    {
     "data": {
      "text/plain": [
       "Campus  Gender\n",
       "TY      M         180\n",
       "        F          82\n",
       "TM      M         165\n",
       "        F          83\n",
       "dtype: int64"
      ]
     },
     "execution_count": 8,
     "metadata": {},
     "output_type": "execute_result"
    }
   ],
   "source": [
    "import pandas as pd\n",
    "import numpy as np\n",
    "\n",
    "ive = pd.DataFrame(np.array([[25,10,22,18],\n",
    "                             [30,12,32,11],\n",
    "                             [28,16,26,12],\n",
    "                             [35,13,36,16],\n",
    "                             [29,17,24,12],\n",
    "                             [33,14,25,14]]),\n",
    "index=[['DSA','DSA','SE','SE','GSD','GSD'],['1A','1B','1A','1B','1A','1B']],\n",
    "columns=[['TY','TY','TM','TM'],['M','F','M','F']])\n",
    "ive.index.names = ['Programme','Class']\n",
    "ive.columns.names = ['Campus','Gender']\n",
    "ive = ive.swaplevel('Class','Programme')\n",
    "ive.sum()"
   ]
  },
  {
   "cell_type": "code",
   "execution_count": null,
   "metadata": {},
   "outputs": [],
   "source": []
  }
 ],
 "metadata": {
  "kernelspec": {
   "display_name": "Python 3",
   "language": "python",
   "name": "python3"
  },
  "language_info": {
   "codemirror_mode": {
    "name": "ipython",
    "version": 3
   },
   "file_extension": ".py",
   "mimetype": "text/x-python",
   "name": "python",
   "nbconvert_exporter": "python",
   "pygments_lexer": "ipython3",
   "version": "3.7.3"
  }
 },
 "nbformat": 4,
 "nbformat_minor": 2
}
