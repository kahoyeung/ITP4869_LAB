{
 "cells": [
  {
   "cell_type": "code",
   "execution_count": 1,
   "metadata": {},
   "outputs": [
    {
     "name": "stdout",
     "output_type": "stream",
     "text": [
      "input the score: 67\n",
      "Grade C\n",
      "Score:  67\n"
     ]
    }
   ],
   "source": [
    "score = input(\"input the score: \")\n",
    "intscore =int(score)\n",
    "if intscore>=80:\n",
    "    print(\"Grade A\")\n",
    "elif intscore>=70:\n",
    "    print(\"Grade B\")\n",
    "elif intscore>=60:\n",
    "    print(\"Grade C\")\n",
    "elif intscore>=50:\n",
    "    print(\"Grade D\")\n",
    "elif intscore>=40:\n",
    "    print(\"Grade E\")\n",
    "else:\n",
    "    print(\"Grade F\")\n",
    "\n",
    "print(\"Score: \",intscore)"
   ]
  },
  {
   "cell_type": "code",
   "execution_count": 2,
   "metadata": {},
   "outputs": [
    {
     "name": "stdout",
     "output_type": "stream",
     "text": [
      "Input the integer7\n",
      "1 \n",
      "1 1 \n",
      "1 2 1 \n",
      "1 3 3 1 \n",
      "1 4 6 4 1 \n",
      "1 5 10 10 5 1 \n",
      "1 6 15 20 15 6 1 \n",
      "1 7 21 35 35 21 7 1 \n"
     ]
    }
   ],
   "source": [
    "\n",
    "def printPascal(n):\n",
    "    for line in range(1, n + 1):\n",
    "        C = 1;\n",
    "        for i in range(1, line + 1):\n",
    "            print(C, end=\" \");\n",
    "            C = int(C * (line - i) / i);\n",
    "        print(\"\");\n",
    "\n",
    "\n",
    "\n",
    "n = int(input(\"Input the integer\"));\n",
    "z=n+1\n",
    "printPascal(z);\n",
    "\n"
   ]
  },
  {
   "cell_type": "code",
   "execution_count": 11,
   "metadata": {},
   "outputs": [
    {
     "name": "stdout",
     "output_type": "stream",
     "text": [
      "         \n",
      "*       *\n",
      "**     **\n",
      "***   ***\n",
      "**** ****\n",
      "*********\n",
      "**** ****\n",
      "***   ***\n",
      "**     **\n",
      "*       *\n",
      "         \n",
      "           \n"
     ]
    }
   ],
   "source": [
    "input = 5\n",
    "binbin = \"*\"\n",
    "for star in range(0,input):\n",
    "    print(binbin*star + \" \"*(input*2-1-star*2)+binbin*star)\n",
    "print(binbin*(input*2-1))\n",
    "for fin in range(0,input+1):\n",
    "    print(binbin*(star-fin) + \" \"*(fin*2+1)+binbin*(star-fin) )"
   ]
  },
  {
   "cell_type": "code",
   "execution_count": 6,
   "metadata": {},
   "outputs": [
    {
     "name": "stdout",
     "output_type": "stream",
     "text": [
      " HEIGHT  WEIGHT     BMI\n",
      "     61    1.61   23.53\n",
      "     61    1.62   23.24\n",
      "     61    1.63   22.96\n",
      "     61    1.64   22.68\n",
      "     61    1.65   22.41\n",
      "     61    1.66   22.14\n",
      "     61    1.67   21.87\n",
      "     61    1.68   21.61\n",
      "     61    1.69   21.36\n",
      "     61    1.70   21.11\n",
      "     62    1.61   23.92\n",
      "     62    1.62   23.62\n",
      "     62    1.63   23.34\n",
      "     62    1.64   23.05\n",
      "     62    1.65   22.77\n",
      "     62    1.66   22.50\n",
      "     62    1.67   22.23\n",
      "     62    1.68   21.97\n",
      "     62    1.69   21.71\n",
      "     62    1.70   21.45\n",
      "     63    1.61   24.30\n",
      "     63    1.62   24.01\n",
      "     63    1.63   23.71\n",
      "     63    1.64   23.42\n",
      "     63    1.65   23.14\n",
      "     63    1.66   22.86\n",
      "     63    1.67   22.59\n",
      "     63    1.68   22.32\n",
      "     63    1.69   22.06\n",
      "     63    1.70   21.80\n",
      "     64    1.61   24.69\n",
      "     64    1.62   24.39\n",
      "     64    1.63   24.09\n",
      "     64    1.64   23.80\n",
      "     64    1.65   23.51\n",
      "     64    1.66   23.23\n",
      "     64    1.67   22.95\n",
      "     64    1.68   22.68\n",
      "     64    1.69   22.41\n",
      "     64    1.70   22.15\n",
      "     65    1.61   25.08\n",
      "     65    1.62   24.77\n",
      "     65    1.63   24.46\n",
      "     65    1.64   24.17\n",
      "     65    1.65   23.88\n",
      "     65    1.66   23.59\n",
      "     65    1.67   23.31\n",
      "     65    1.68   23.03\n",
      "     65    1.69   22.76\n",
      "     65    1.70   22.49\n",
      "     66    1.61   25.46\n",
      "     66    1.62   25.15\n",
      "     66    1.63   24.84\n",
      "     66    1.64   24.54\n",
      "     66    1.65   24.24\n",
      "     66    1.66   23.95\n",
      "     66    1.67   23.67\n",
      "     66    1.68   23.38\n",
      "     66    1.69   23.11\n",
      "     66    1.70   22.84\n",
      "     67    1.61   25.85\n",
      "     67    1.62   25.53\n",
      "     67    1.63   25.22\n",
      "     67    1.64   24.91\n",
      "     67    1.65   24.61\n",
      "     67    1.66   24.31\n",
      "     67    1.67   24.02\n",
      "     67    1.68   23.74\n",
      "     67    1.69   23.46\n",
      "     67    1.70   23.18\n",
      "     68    1.61   26.23\n",
      "     68    1.62   25.91\n",
      "     68    1.63   25.59\n",
      "     68    1.64   25.28\n",
      "     68    1.65   24.98\n",
      "     68    1.66   24.68\n",
      "     68    1.67   24.38\n",
      "     68    1.68   24.09\n",
      "     68    1.69   23.81\n",
      "     68    1.70   23.53\n",
      "     69    1.61   26.62\n",
      "     69    1.62   26.29\n",
      "     69    1.63   25.97\n",
      "     69    1.64   25.65\n",
      "     69    1.65   25.34\n",
      "     69    1.66   25.04\n",
      "     69    1.67   24.74\n",
      "     69    1.68   24.45\n",
      "     69    1.69   24.16\n",
      "     69    1.70   23.88\n",
      "     70    1.61   27.01\n",
      "     70    1.62   26.67\n",
      "     70    1.63   26.35\n",
      "     70    1.64   26.03\n",
      "     70    1.65   25.71\n",
      "     70    1.66   25.40\n",
      "     70    1.67   25.10\n",
      "     70    1.68   24.80\n",
      "     70    1.69   24.51\n",
      "     70    1.70   24.22\n"
     ]
    }
   ],
   "source": [
    "w =[]\n",
    "h =[]\n",
    "bmilist=[]\n",
    "count = 0\n",
    "for i in range(61,71):\n",
    "    w.append(i)\n",
    "    x=float(\"1.\"+str(i))\n",
    "    h.append(x)\n",
    "print('%7s %7s %7s' % ('HEIGHT','WEIGHT','BMI'))\n",
    "for i in w:\n",
    "    for x in h:\n",
    "        bmilist.append((i,x,(i/(x**2))))\n",
    "        print('%7d %7.2f %7.2f'%(i,x,bmilist[count][2]))\n",
    "        count+=1\n"
   ]
  },
  {
   "cell_type": "code",
   "execution_count": null,
   "metadata": {},
   "outputs": [],
   "source": []
  }
 ],
 "metadata": {
  "kernelspec": {
   "display_name": "Python 3",
   "language": "python",
   "name": "python3"
  },
  "language_info": {
   "codemirror_mode": {
    "name": "ipython",
    "version": 3
   },
   "file_extension": ".py",
   "mimetype": "text/x-python",
   "name": "python",
   "nbconvert_exporter": "python",
   "pygments_lexer": "ipython3",
   "version": "3.7.3"
  }
 },
 "nbformat": 4,
 "nbformat_minor": 2
}
