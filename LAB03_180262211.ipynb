{
 "cells": [
  {
   "cell_type": "code",
   "execution_count": 1,
   "metadata": {},
   "outputs": [
    {
     "name": "stdout",
     "output_type": "stream",
     "text": [
      "input the score: 67\n",
      "Grade C\n",
      "Score:  67\n"
     ]
    }
   ],
   "source": [
    "score = input(\"input the score: \")\n",
    "intscore =int(score)\n",
    "if intscore>=80:\n",
    "    print(\"Grade A\")\n",
    "elif intscore>=70:\n",
    "    print(\"Grade B\")\n",
    "elif intscore>=60:\n",
    "    print(\"Grade C\")\n",
    "elif intscore>=50:\n",
    "    print(\"Grade D\")\n",
    "elif intscore>=40:\n",
    "    print(\"Grade E\")\n",
    "else:\n",
    "    print(\"Grade F\")\n",
    "\n",
    "print(\"Score: \",intscore)"
   ]
  },
  {
   "cell_type": "code",
   "execution_count": 2,
   "metadata": {},
   "outputs": [
    {
     "name": "stdout",
     "output_type": "stream",
     "text": [
      "Input the integer7\n",
      "1 \n",
      "1 1 \n",
      "1 2 1 \n",
      "1 3 3 1 \n",
      "1 4 6 4 1 \n",
      "1 5 10 10 5 1 \n",
      "1 6 15 20 15 6 1 \n",
      "1 7 21 35 35 21 7 1 \n"
     ]
    }
   ],
   "source": [
    "\n",
    "def printPascal(n):\n",
    "    for line in range(1, n + 1):\n",
    "        C = 1;\n",
    "        for i in range(1, line + 1):\n",
    "            print(C, end=\" \");\n",
    "            C = int(C * (line - i) / i);\n",
    "        print(\"\");\n",
    "\n",
    "\n",
    "\n",
    "n = int(input(\"Input the integer\"));\n",
    "z=n+1\n",
    "printPascal(z);\n",
    "\n"
   ]
  },
  {
   "cell_type": "code",
   "execution_count": 3,
   "metadata": {},
   "outputs": [
    {
     "name": "stdout",
     "output_type": "stream",
     "text": [
      "Enter number of rows 5\n",
      "* \n",
      "* * \n",
      "* * * \n",
      "* * * * \n",
      "* * * * * \n",
      "* * * * \n",
      "* * * \n",
      "* * \n",
      "* \n",
      "\n"
     ]
    }
   ],
   "source": [
    "rows = input(\"Enter number of rows \")\n",
    "rows = int (rows)\n",
    "for i in range (0, rows):\n",
    "    for j in range(0, i + 1):\n",
    "        print(\"*\", end=' ')\n",
    "    print(\"\\r\")\n",
    "\n",
    "for i in range (rows, 0, -1):\n",
    "    for j in range(0, i -1):\n",
    "        print(\"*\", end=' ')\n",
    "    print(\"\\r\")\n"
   ]
  },
  {
   "cell_type": "code",
   "execution_count": 5,
   "metadata": {},
   "outputs": [
    {
     "name": "stdout",
     "output_type": "stream",
     "text": [
      "(1, 2, 3)\n"
     ]
    }
   ],
   "source": [
    "w =[]\n",
    "h =[]\n",
    "bmilist=[]\n",
    "count = 0\n",
    "for i in range(61,71):\n",
    "    w.append(i)\n",
    "    x=float(\"1.\"+str(i))\n",
    "    h.append(x)\n",
    "print('%7s %7s %7s' % ('HEIGHT','WEIGHT','BMI'))\n",
    "for i in w:\n",
    "    for x in h:\n",
    "        bmilist.append((i,x,(i/(x**2))))\n",
    "        print('%7d %7.2f %7.2f'%(i,x,bmilist[count][2]))\n",
    "        count+=1\n"
   ]
  },
  {
   "cell_type": "code",
   "execution_count": null,
   "metadata": {},
   "outputs": [],
   "source": []
  }
 ],
 "metadata": {
  "kernelspec": {
   "display_name": "Python 3",
   "language": "python",
   "name": "python3"
  },
  "language_info": {
   "codemirror_mode": {
    "name": "ipython",
    "version": 3
   },
   "file_extension": ".py",
   "mimetype": "text/x-python",
   "name": "python",
   "nbconvert_exporter": "python",
   "pygments_lexer": "ipython3",
   "version": "3.7.3"
  }
 },
 "nbformat": 4,
 "nbformat_minor": 2
}
