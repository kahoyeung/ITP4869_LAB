{
 "cells": [
  {
   "cell_type": "code",
   "execution_count": 48,
   "metadata": {
    "scrolled": true
   },
   "outputs": [
    {
     "name": "stdout",
     "output_type": "stream",
     "text": [
      "         country country code    year          POP           GDP _merge\n",
      "0      Argentina          ARG  2019.0    37335.653  2.950722e+05   both\n",
      "1      Australia          AUS  2019.0    19053.186  5.418047e+05   both\n",
      "2          India          IND  2019.0  1006300.297  1.728144e+06   both\n",
      "3         Israel          ISR  2019.0     6114.570  1.292539e+05   both\n",
      "4   South Africa          ZAF  2019.0    45064.098  2.272424e+05   both\n",
      "5  United States          USA  2019.0   282171.957  9.898700e+06   both\n"
     ]
    }
   ],
   "source": [
    "import pandas as pd\n",
    "cdf1 = pd.read_csv('lab0801a.csv')\n",
    "cdf2 = pd.read_csv('lab0801b.csv')\n",
    "#print(cdf2)\n",
    "cdf3 = pd.merge(cdf1, cdf2, left_on='country',right_on='country', how='outer', indicator=True)\n",
    "cdf3a = cdf3.dropna()\n",
    "print(cdf3a)"
   ]
  },
  {
   "cell_type": "code",
   "execution_count": 57,
   "metadata": {},
   "outputs": [
    {
     "name": "stdout",
     "output_type": "stream",
     "text": [
      "            GDP          POP _merge        country country code    year\n",
      "0  2.950722e+05    37335.653   both      Argentina          ARG  2019.0\n",
      "1  5.418047e+05    19053.186   both      Australia          AUS  2019.0\n",
      "2  1.728144e+06  1006300.297   both          India          IND  2019.0\n",
      "3  1.292539e+05     6114.570   both         Israel          ISR  2019.0\n",
      "4  2.272424e+05    45064.098   both   South Africa          ZAF  2019.0\n",
      "5  9.898700e+06   282171.957   both  United States          USA  2019.0\n",
      "0  5.026222e+03    11801.505    NaN         Malawi          MWI  2019.0\n",
      "1  2.525596e+04     3219.793    NaN        Uruguay          URY  2019.0\n"
     ]
    }
   ],
   "source": [
    "cdf4 = pd.read_csv('lab0802.csv')\n",
    "cdf5 = cdf3a.append(cdf4)\n",
    "print(cdf5)"
   ]
  }
 ],
 "metadata": {
  "kernelspec": {
   "display_name": "Python 3",
   "language": "python",
   "name": "python3"
  },
  "language_info": {
   "codemirror_mode": {
    "name": "ipython",
    "version": 3
   },
   "file_extension": ".py",
   "mimetype": "text/x-python",
   "name": "python",
   "nbconvert_exporter": "python",
   "pygments_lexer": "ipython3",
   "version": "3.7.3"
  }
 },
 "nbformat": 4,
 "nbformat_minor": 2
}
