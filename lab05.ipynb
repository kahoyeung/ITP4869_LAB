{
 "cells": [
  {
   "cell_type": "code",
   "execution_count": 15,
   "metadata": {},
   "outputs": [
    {
     "name": "stdout",
     "output_type": "stream",
     "text": [
      "[  0   1   2   3   4   5   6   7   8   9  10  11  12  13  14  15  16  17\n",
      "  18  19  20  21  22  23  24  25  26  27  28  29  30  31  32  33  34  35\n",
      "  36  37  38  39  40  41  42  43  44  45  46  47  48  49  50  51  52  53\n",
      "  54  55  56  57  58  59  60  61  62  63  64  65  66  67  68  69  70  71\n",
      "  72  73  74  75  76  77  78  79  80  81  82  83  84  85  86  87  88  89\n",
      "  90  91  92  93  94  95  96  97  98  99 100]\n",
      "---------------------------------------------------------\n",
      "[0, 2, 4, 6, 8, 10, 12, 14, 16, 18, 20, 22, 24, 26, 28, 30, 32, 34, 36, 38, 40, 42, 44, 46, 48, 50, 52, 54, 56, 58, 60, 62, 64, 66, 68, 70, 72, 74, 76, 78, 80, 82, 84, 86, 88, 90, 92, 94, 96, 98, 100]\n",
      "---------------------------------------------------------\n",
      "[0, 5, 10, 15, 20, 25, 30, 35, 40, 45, 50, 55, 60, 65, 70, 75, 80, 85, 90, 95, 100]\n"
     ]
    }
   ],
   "source": [
    "import numpy\n",
    "numpy.version.version\n",
    "arr=numpy.arange(0,100+1)\n",
    "print(arr)\n",
    "print(\"---------------------------------------------------------\")\n",
    "arr1 = [num for num in arr if num % 2 == 0]\n",
    "print(arr1)\n",
    "print(\"---------------------------------------------------------\")\n",
    "arr2 = [num for num in arr if num % 5 == 0]\n",
    "print(arr2)"
   ]
  },
  {
   "cell_type": "code",
   "execution_count": 16,
   "metadata": {},
   "outputs": [
    {
     "name": "stdout",
     "output_type": "stream",
     "text": [
      "---------------------------------------------------------\n",
      "[51 52 53 54 55 56 57 58 59 60 61 62 63 64 65 66 67 68]\n",
      "---------------------------------------------------------\n",
      "[[51 52 53 54 55 56]\n",
      " [57 58 59 60 61 62]\n",
      " [63 64 65 66 67 68]]\n",
      "---------------------------------------------------------\n",
      "[[51 52 53]\n",
      " [54 55 56]\n",
      " [57 58 59]\n",
      " [60 61 62]\n",
      " [63 64 65]\n",
      " [66 67 68]]\n",
      "---------------------------------------------------------\n"
     ]
    }
   ],
   "source": [
    "import numpy as np\n",
    "np.array([0])\n",
    "print(\"---------------------------------------------------------\")\n",
    "arr2 =np.arange(51,69)\n",
    "print(arr2)\n",
    "print(\"---------------------------------------------------------\")\n",
    "arr3=arr2.reshape((3,6))\n",
    "print(arr3)\n",
    "print(\"---------------------------------------------------------\")\n",
    "arr4 = arr3.reshape((6,3))\n",
    "print(arr4)\n",
    "print(\"---------------------------------------------------------\")"
   ]
  },
  {
   "cell_type": "code",
   "execution_count": 17,
   "metadata": {},
   "outputs": [
    {
     "name": "stdout",
     "output_type": "stream",
     "text": [
      "2\n",
      "2\n",
      "2\n",
      "2\n",
      "2\n",
      "2\n",
      "2\n",
      "2\n",
      "2\n",
      "2\n",
      "2\n",
      "2\n",
      "[[Timestamp('2019-06-05 00:00:00', freq='D')\n",
      "  Timestamp('2019-06-12 00:00:00', freq='D')\n",
      "  Timestamp('2019-06-19 00:00:00', freq='D')\n",
      "  Timestamp('2019-06-26 00:00:00', freq='D')]\n",
      " [Timestamp('2019-07-03 00:00:00', freq='D')\n",
      "  Timestamp('2019-07-10 00:00:00', freq='D')\n",
      "  Timestamp('2019-07-17 00:00:00', freq='D')\n",
      "  Timestamp('2019-07-24 00:00:00', freq='D')]\n",
      " [Timestamp('2019-07-31 00:00:00', freq='D')\n",
      "  Timestamp('2019-08-07 00:00:00', freq='D')\n",
      "  Timestamp('2019-08-14 00:00:00', freq='D')\n",
      "  Timestamp('2019-08-21 00:00:00', freq='D')]]\n",
      "[array([Timestamp('2019-06-12 00:00:00', freq='D'),\n",
      "       Timestamp('2019-07-10 00:00:00', freq='D'),\n",
      "       Timestamp('2019-08-07 00:00:00', freq='D')], dtype=object), array([Timestamp('2019-06-26 00:00:00', freq='D'),\n",
      "       Timestamp('2019-07-24 00:00:00', freq='D'),\n",
      "       Timestamp('2019-08-21 00:00:00', freq='D')], dtype=object)]\n",
      "[Timestamp('2019-06-12 00:00:00', freq='D'), Timestamp('2019-06-26 00:00:00', freq='D')]\n",
      "[Timestamp('2019-06-05 00:00:00', freq='D'), Timestamp('2019-07-10 00:00:00', freq='D'), Timestamp('2019-08-14 00:00:00', freq='D')]\n"
     ]
    },
    {
     "data": {
      "text/plain": [
       "array([Timestamp('2019-06-05 00:00:00', freq='D'),\n",
       "       Timestamp('2019-07-10 00:00:00', freq='D'),\n",
       "       Timestamp('2019-08-14 00:00:00', freq='D')], dtype=object)"
      ]
     },
     "execution_count": 17,
     "metadata": {},
     "output_type": "execute_result"
    }
   ],
   "source": [
    "import pandas as pd\n",
    "import numpy as np\n",
    "\n",
    "data = pd.date_range(start='06/04/2019', end='08/21/2019')\n",
    "datasave = []\n",
    "for i in range(1, len(data)):\n",
    "    if data[i].weekday() == 2:\n",
    "        print(data[i].weekday())\n",
    "        datasave.append(data[i])\n",
    "ans = datasave\n",
    "wed = np.array(ans)\n",
    "wed = wed.reshape(3,4)\n",
    "print(wed)\n",
    "wed2 = [wed.T[i] for i in range (len(wed.T)) if i %2 !=0]\n",
    "print(wed2)\n",
    "wed3 = []\n",
    "wed3.append(wed[0][1])\n",
    "wed3.append(wed[0][3])\n",
    "print(wed3)\n",
    "wed4 = []\n",
    "for i in range(0,len(wed)):\n",
    "    wed4.append(wed[i][i])\n",
    "print(wed4)\n",
    "np.diagonal(wed)"
   ]
  },
  {
   "cell_type": "code",
   "execution_count": 18,
   "metadata": {},
   "outputs": [
    {
     "name": "stdout",
     "output_type": "stream",
     "text": [
      "16\n",
      "3\n",
      "[ 5.  2.  1.  1. 13.  4.  3.  1.  4.  3.  1.  2.  1.  1.  2.]\n",
      "[2.23606797749979, 1.4142135623730951, 1.0, 1.0, 3.605551275463989, nan, 2.0, 1.7320508075688772, 1.0, 2.0, 1.7320508075688772, 1.0, 1.4142135623730951, nan, nan, 1.0, 1.0, 1.4142135623730951]\n"
     ]
    }
   ],
   "source": [
    "import numpy as np\n",
    "num = np.array([5,2,1,1,13,np.nan,4,3,1,4,3,1,2,np.nan,np.nan,1,1,2])\n",
    "a=np.where(num==1)[0][-1]\n",
    "print(a)\n",
    "b=np.count_nonzero(np.isnan(num))\n",
    "print(b)\n",
    "num2 = np.delete(num,np.where(np.isnan(num)))\n",
    "print(num2)\n",
    "num3 = []\n",
    "for i in range(0,len(num)):\n",
    "    num3.append(num[i]**(1/2))\n",
    "print(num3)"
   ]
  },
  {
   "cell_type": "code",
   "execution_count": 1,
   "metadata": {},
   "outputs": [
    {
     "name": "stdout",
     "output_type": "stream",
     "text": [
      "-------5a-------\n",
      "[[0. 0. 0.]\n",
      " [1. 1. 1.]\n",
      " [2. 2. 2.]\n",
      " [3. 3. 3.]\n",
      " [4. 4. 4.]]\n",
      "---------------\n",
      "[[1. 1. 1.]\n",
      " [3. 3. 3.]\n",
      " [4. 4. 4.]]\n",
      "---------------\n",
      "[[4. 4. 4.]\n",
      " [2. 2. 2.]]\n",
      "-------5b--------\n",
      "[[[ 6  2]\n",
      "  [23 23]\n",
      "  [ 4  7]]\n",
      "\n",
      " [[18  8]\n",
      "  [20 14]\n",
      "  [14 21]]\n",
      "\n",
      " [[ 7 12]\n",
      "  [21  1]\n",
      "  [ 8 20]]\n",
      "\n",
      " [[16  6]\n",
      "  [ 2 11]\n",
      "  [15  7]]]\n",
      "-----------------\n",
      "[[[ 6  2]\n",
      "  [18  8]\n",
      "  [ 7 12]\n",
      "  [16  6]]\n",
      "\n",
      " [[23 23]\n",
      "  [20 14]\n",
      "  [21  1]\n",
      "  [ 2 11]]\n",
      "\n",
      " [[ 4  7]\n",
      "  [14 21]\n",
      "  [ 8 20]\n",
      "  [15  7]]]\n",
      "-------5c--------\n"
     ]
    }
   ],
   "source": [
    "import numpy as np\n",
    "print(\"-------5a-------\")\n",
    "\n",
    "arr = np.empty((5,3))\n",
    "for i in range(5):\n",
    "    arr[i] = i\n",
    "print (arr)\n",
    "print(\"---------------\")\n",
    "print(arr[[1,3,4]])\n",
    "print(\"---------------\")\n",
    "print(arr[[-1,-3]])\n",
    "print(\"-------5b--------\")\n",
    "import random\n",
    "a = np.random.randint(1,24,size=(2,3,4))\n",
    "print(a.T)\n",
    "print(\"-----------------\")\n",
    "print(a.transpose(1,2,0))\n",
    "print(\"-------5c--------\")\n",
    "Q5c = np.load('Lab5.5c.npy')\n",
    "np.flip(Q5c)\n",
    "Q5d = np.random.randn(24)\n",
    "np.save('Q5d',Q5d)"
   ]
  },
  {
   "cell_type": "code",
   "execution_count": 4,
   "metadata": {},
   "outputs": [
    {
     "name": "stdout",
     "output_type": "stream",
     "text": [
      "-------------------------------Q6--------\n",
      "[ 1.56944444 -0.69444444  1.625      -0.47222222]\n"
     ]
    }
   ],
   "source": [
    "print(\"-------------------------------Q6--------\")\n",
    "import numpy as np\n",
    "Q6 = ['w','x','y','z']\n",
    "Q6a = np.array([[1,2,3,-2],[3,2,1,2],[2,-1,-2,-3],[2,-3,2,1]])\n",
    "ans = np.array([6,4,2,8])\n",
    "ainv = np.linalg.inv(Q6a)\n",
    "print(np.linalg.solve(Q6a,ans))"
   ]
  },
  {
   "cell_type": "code",
   "execution_count": null,
   "metadata": {},
   "outputs": [],
   "source": [
    "print(\"---------------Q7-----------------\")\n",
    "print(\"---------------Q7a----------------\")\n",
    "import numpy as np\n",
    "r1 = np.random.randint(0,9,size=(1,10))\n",
    "r2 = np.random.randint(0,9,size=(1,10))\n",
    "print(\"---------------Q7b----------------\")\n",
    "def maxx(r1,r2):\n",
    "    return max(r1,r2)\n",
    "print(maxx(3,6))\n",
    "print(\"---------------Q7c,d----------------\")\n",
    "def pair_max(arr,arr2):\n",
    "    arr3 = np.array\n",
    "    for i in range(0,len(arr[0])):\n",
    "        arr3 = np.append(arr3,max(arr[0][i],arr2[0][i]))\n",
    "        return arr3\n",
    "print(pair_max(r1,r2))"
   ]
  },
  {
   "cell_type": "code",
   "execution_count": null,
   "metadata": {},
   "outputs": [],
   "source": [
    "import numpy as np\n",
    "print(\"---------------Q8a----------------\")\n",
    "iris = np.load(\"iris2d.npy\")\n",
    "print(iris)\n",
    "print(\"---------------Q8b----------------\")\n",
    "iris2 = iris[:25,:4 ]\n",
    "iris2 = iris2.reshape(1,100)\n",
    "print(iris2)\n",
    "col = []\n",
    "row = []\n",
    "nan = np.random.randint(1,100)\n",
    "col = np.append(col,(np.random.randint(1,100,nan)))\n",
    "row = np.append(row,(np.random.randint(1,100,nan)))\n",
    "for i in np.random.randint(0,len(iris2),np.random.randint(0, len(iris2))):\n",
    "    iris2[i] = np.nan\n",
    "countNAN = sum(np.isnan(iris2))\n",
    "iris2[np.isnan(iris2)] = 999"
   ]
  },
  {
   "cell_type": "code",
   "execution_count": null,
   "metadata": {},
   "outputs": [],
   "source": []
  }
 ],
 "metadata": {
  "kernelspec": {
   "display_name": "Python 3",
   "language": "python",
   "name": "python3"
  },
  "language_info": {
   "codemirror_mode": {
    "name": "ipython",
    "version": 3
   },
   "file_extension": ".py",
   "mimetype": "text/x-python",
   "name": "python",
   "nbconvert_exporter": "python",
   "pygments_lexer": "ipython3",
   "version": "3.7.3"
  }
 },
 "nbformat": 4,
 "nbformat_minor": 2
}
