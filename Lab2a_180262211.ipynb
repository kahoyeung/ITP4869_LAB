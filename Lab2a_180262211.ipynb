{
 "cells": [
  {
   "cell_type": "code",
   "execution_count": 5,
   "metadata": {},
   "outputs": [
    {
     "name": "stdout",
     "output_type": "stream",
     "text": [
      "66.5\n"
     ]
    }
   ],
   "source": [
    "s1={'amy':75,'bobby':62,'david':50}\n",
    "s2={'helen':80,'joseph':72,'stephen':60}\n",
    "z = {**s1, **s2}\n",
    "y=sum(z.values())\n",
    "total=len(z)\n",
    "x=len\n",
    "print(y/total)\n",
    "\n"
   ]
  },
  {
   "cell_type": "code",
   "execution_count": 6,
   "metadata": {},
   "outputs": [
    {
     "name": "stdout",
     "output_type": "stream",
     "text": [
      "{'amy': 50, 'bobby': 60, 'david': 70}\n"
     ]
    }
   ],
   "source": [
    "t=((50,'amy'), (60,'bobby'),(70,'david'))\n",
    "print(dict((y, x) for x, y in t))\n",
    "\n"
   ]
  },
  {
   "cell_type": "code",
   "execution_count": 7,
   "metadata": {},
   "outputs": [
    {
     "name": "stdout",
     "output_type": "stream",
     "text": [
      "{'a': 400, 'b': 400, 'c': 300, 'd': 400}\n"
     ]
    }
   ],
   "source": [
    "from collections import Counter\n",
    "d1={'a':100,'b':200,'c':300}\n",
    "d2={'a':300,'b':200,'d':400}\n",
    "D1,D2 = Counter(d1), Counter(d2)\n",
    "z= dict(D1+D2)\n",
    "print(z)"
   ]
  },
  {
   "cell_type": "code",
   "execution_count": null,
   "metadata": {},
   "outputs": [],
   "source": []
  }
 ],
 "metadata": {
  "kernelspec": {
   "display_name": "Python 3",
   "language": "python",
   "name": "python3"
  },
  "language_info": {
   "codemirror_mode": {
    "name": "ipython",
    "version": 3
   },
   "file_extension": ".py",
   "mimetype": "text/x-python",
   "name": "python",
   "nbconvert_exporter": "python",
   "pygments_lexer": "ipython3",
   "version": "3.7.3"
  }
 },
 "nbformat": 4,
 "nbformat_minor": 2
}
