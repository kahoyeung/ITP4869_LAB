{
 "cells": [
  {
   "cell_type": "code",
   "execution_count": 1,
   "metadata": {},
   "outputs": [],
   "source": [
    "import pandas as pd\n",
    "import numpy as np\n",
    "from pandas import DataFrame"
   ]
  },
  {
   "cell_type": "markdown",
   "metadata": {},
   "source": [
    "# Q1"
   ]
  },
  {
   "cell_type": "code",
   "execution_count": 2,
   "metadata": {},
   "outputs": [
    {
     "name": "stdout",
     "output_type": "stream",
     "text": [
      "         country country code  year\n",
      "0      Argentina          ARG  2019\n",
      "1      Australia          AUS  2019\n",
      "2          India          IND  2019\n",
      "3         Israel          ISR  2019\n",
      "4   South Africa          ZAF  2019\n",
      "5  United States          USA  2019\n",
      "6        Uruguay          URY  2019\n"
     ]
    }
   ],
   "source": [
    "cdf1 = pd.read_csv(\"lab0801a.csv\")\n",
    "print(cdf1)"
   ]
  },
  {
   "cell_type": "code",
   "execution_count": 3,
   "metadata": {},
   "outputs": [
    {
     "name": "stdout",
     "output_type": "stream",
     "text": [
      "         country          POP           GDP\n",
      "0      Argentina    37335.653  2.950722e+05\n",
      "1      Australia    19053.186  5.418047e+05\n",
      "2          India  1006300.297  1.728144e+06\n",
      "3         Israel     6114.570  1.292539e+05\n",
      "4         Malawi    11801.505  5.026222e+03\n",
      "5   South Africa    45064.098  2.272424e+05\n",
      "6  United States   282171.957  9.898700e+06\n"
     ]
    }
   ],
   "source": [
    "cdf2 = pd.read_csv(\"lab0801b.csv\")\n",
    "print(cdf2)\n"
   ]
  },
  {
   "cell_type": "code",
   "execution_count": 4,
   "metadata": {},
   "outputs": [
    {
     "name": "stdout",
     "output_type": "stream",
     "text": [
      "            GDP          POP        country country code    year\n",
      "0           NaN          NaN      Argentina          ARG  2019.0\n",
      "1           NaN          NaN      Australia          AUS  2019.0\n",
      "2           NaN          NaN          India          IND  2019.0\n",
      "3           NaN          NaN         Israel          ISR  2019.0\n",
      "4           NaN          NaN   South Africa          ZAF  2019.0\n",
      "5           NaN          NaN  United States          USA  2019.0\n",
      "6           NaN          NaN        Uruguay          URY  2019.0\n",
      "0  2.950722e+05    37335.653      Argentina          NaN     NaN\n",
      "1  5.418047e+05    19053.186      Australia          NaN     NaN\n",
      "2  1.728144e+06  1006300.297          India          NaN     NaN\n",
      "3  1.292539e+05     6114.570         Israel          NaN     NaN\n",
      "4  5.026222e+03    11801.505         Malawi          NaN     NaN\n",
      "5  2.272424e+05    45064.098   South Africa          NaN     NaN\n",
      "6  9.898700e+06   282171.957  United States          NaN     NaN\n"
     ]
    }
   ],
   "source": [
    "frame =[cdf1,cdf2]\n",
    "result = pd.concat(frame,sort = True)\n",
    "print(result)"
   ]
  },
  {
   "cell_type": "code",
   "execution_count": null,
   "metadata": {},
   "outputs": [],
   "source": []
  }
 ],
 "metadata": {
  "kernelspec": {
   "display_name": "Python 3",
   "language": "python",
   "name": "python3"
  },
  "language_info": {
   "codemirror_mode": {
    "name": "ipython",
    "version": 3
   },
   "file_extension": ".py",
   "mimetype": "text/x-python",
   "name": "python",
   "nbconvert_exporter": "python",
   "pygments_lexer": "ipython3",
   "version": "3.7.3"
  }
 },
 "nbformat": 4,
 "nbformat_minor": 2
}
