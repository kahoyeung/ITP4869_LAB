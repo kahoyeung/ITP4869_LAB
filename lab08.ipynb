{
 "cells": [
  {
   "cell_type": "code",
   "execution_count": 1,
   "metadata": {},
   "outputs": [],
   "source": [
    "import pandas as pd\n",
    "import numpy as np\n",
    "from pandas import DataFrame"
   ]
  },
  {
   "cell_type": "markdown",
   "metadata": {},
   "source": [
    "# Q1"
   ]
  },
  {
   "cell_type": "code",
   "execution_count": 2,
   "metadata": {},
   "outputs": [
    {
     "name": "stdout",
     "output_type": "stream",
     "text": [
      "         country country code  year\n",
      "0      Argentina          ARG  2019\n",
      "1      Australia          AUS  2019\n",
      "2          India          IND  2019\n",
      "3         Israel          ISR  2019\n",
      "4   South Africa          ZAF  2019\n",
      "5  United States          USA  2019\n",
      "6        Uruguay          URY  2019\n"
     ]
    }
   ],
   "source": [
    "cdf1 = pd.read_csv(\"lab0801a.csv\")\n",
    "print(cdf1)"
   ]
  },
  {
   "cell_type": "code",
   "execution_count": 3,
   "metadata": {},
   "outputs": [
    {
     "name": "stdout",
     "output_type": "stream",
     "text": [
      "         country          POP           GDP\n",
      "0      Argentina    37335.653  2.950722e+05\n",
      "1      Australia    19053.186  5.418047e+05\n",
      "2          India  1006300.297  1.728144e+06\n",
      "3         Israel     6114.570  1.292539e+05\n",
      "4         Malawi    11801.505  5.026222e+03\n",
      "5   South Africa    45064.098  2.272424e+05\n",
      "6  United States   282171.957  9.898700e+06\n"
     ]
    }
   ],
   "source": [
    "cdf2 = pd.read_csv(\"lab0801b.csv\")\n",
    "print(cdf2)\n"
   ]
  },
  {
   "cell_type": "code",
   "execution_count": 6,
   "metadata": {},
   "outputs": [
    {
     "name": "stdout",
     "output_type": "stream",
     "text": [
      "         country country code    year          POP           GDP\n",
      "0      Argentina          ARG  2019.0    37335.653  2.950722e+05\n",
      "1      Australia          AUS  2019.0    19053.186  5.418047e+05\n",
      "2          India          IND  2019.0  1006300.297  1.728144e+06\n",
      "3         Israel          ISR  2019.0     6114.570  1.292539e+05\n",
      "4   South Africa          ZAF  2019.0    45064.098  2.272424e+05\n",
      "5  United States          USA  2019.0   282171.957  9.898700e+06\n",
      "6        Uruguay          URY  2019.0          NaN           NaN\n",
      "7         Malawi          NaN     NaN    11801.505  5.026222e+03\n"
     ]
    }
   ],
   "source": [
    "cdf3 = pd.merge(cdf1,cdf2, on='country',how='outer')\n",
    "print(cdf3)"
   ]
  },
  {
   "cell_type": "code",
   "execution_count": 7,
   "metadata": {},
   "outputs": [
    {
     "name": "stdout",
     "output_type": "stream",
     "text": [
      "         country country code    year          POP           GDP\n",
      "1      Australia          AUS  2019.0    19053.186  5.418047e+05\n",
      "2          India          IND  2019.0  1006300.297  1.728144e+06\n",
      "3         Israel          ISR  2019.0     6114.570  1.292539e+05\n",
      "4   South Africa          ZAF  2019.0    45064.098  2.272424e+05\n",
      "5  United States          USA  2019.0   282171.957  9.898700e+06\n",
      "7         Malawi          NaN     NaN    11801.505  5.026222e+03\n"
     ]
    }
   ],
   "source": [
    "cdf3a =cdf3.drop([0,6])\n",
    "print(cdf3a)"
   ]
  },
  {
   "cell_type": "code",
   "execution_count": 8,
   "metadata": {},
   "outputs": [
    {
     "name": "stdout",
     "output_type": "stream",
     "text": [
      "   country country code  year        POP           GDP\n",
      "0   Malawi          MWI  2019  11801.505   5026.221784\n",
      "1  Uruguay          URY  2019   3219.793  25255.961690\n"
     ]
    }
   ],
   "source": [
    "cdf4 = pd.read_csv(\"lab0802.csv\")\n",
    "print(cdf4)"
   ]
  },
  {
   "cell_type": "code",
   "execution_count": 12,
   "metadata": {},
   "outputs": [
    {
     "name": "stdout",
     "output_type": "stream",
     "text": [
      "       country_x country code  year_x        POP_x         GDP_x country_y  \\\n",
      "0      Argentina          ARG  2019.0    37335.653  2.950722e+05       NaN   \n",
      "1      Australia          AUS  2019.0    19053.186  5.418047e+05       NaN   \n",
      "2          India          IND  2019.0  1006300.297  1.728144e+06       NaN   \n",
      "3         Israel          ISR  2019.0     6114.570  1.292539e+05       NaN   \n",
      "4   South Africa          ZAF  2019.0    45064.098  2.272424e+05       NaN   \n",
      "5  United States          USA  2019.0   282171.957  9.898700e+06       NaN   \n",
      "6        Uruguay          URY  2019.0          NaN           NaN   Uruguay   \n",
      "7         Malawi          NaN     NaN    11801.505  5.026222e+03       NaN   \n",
      "8            NaN          MWI     NaN          NaN           NaN    Malawi   \n",
      "\n",
      "   year_y      POP_y         GDP_y  \n",
      "0     NaN        NaN           NaN  \n",
      "1     NaN        NaN           NaN  \n",
      "2     NaN        NaN           NaN  \n",
      "3     NaN        NaN           NaN  \n",
      "4     NaN        NaN           NaN  \n",
      "5     NaN        NaN           NaN  \n",
      "6  2019.0   3219.793  25255.961690  \n",
      "7     NaN        NaN           NaN  \n",
      "8  2019.0  11801.505   5026.221784  \n"
     ]
    }
   ],
   "source": [
    "cdf5 = pd.merge(cdf3,cdf4, on='country',how='outer')\n",
    "print(cdf5)"
   ]
  },
  {
   "cell_type": "code",
   "execution_count": null,
   "metadata": {},
   "outputs": [],
   "source": []
  }
 ],
 "metadata": {
  "kernelspec": {
   "display_name": "Python 3",
   "language": "python",
   "name": "python3"
  },
  "language_info": {
   "codemirror_mode": {
    "name": "ipython",
    "version": 3
   },
   "file_extension": ".py",
   "mimetype": "text/x-python",
   "name": "python",
   "nbconvert_exporter": "python",
   "pygments_lexer": "ipython3",
   "version": "3.7.3"
  }
 },
 "nbformat": 4,
 "nbformat_minor": 2
}
