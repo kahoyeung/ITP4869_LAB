{
 "cells": [
  {
   "cell_type": "code",
   "execution_count": 3,
   "metadata": {
    "collapsed": true,
    "pycharm": {
     "is_executing": false
    }
   },
   "outputs": [],
   "source": [
    "from matplotlib import pyplot as plt\n",
    "import sys\n",
    "import requests\n",
    "import cv2\n",
    "import time\n",
    "import re"
   ]
  },
  {
   "cell_type": "code",
   "execution_count": 4,
   "outputs": [],
   "source": [
    "base = 'https://westcentralus.api.cognitive.microsoft.com/vision/v2.0'\n",
    "recog_url = f'{base}/recognizeText?mode=Printed'\n",
    "key = '6023f2c1af9e45fd82ed220de33ba475'\n",
    "headers = {'Ocp-Apim-Subscription-Key': key}                           \n",
    "headers_stream = {'Ocp-Apim-Subscription-Key': key,                    \n",
    "                  'Content-Type': 'application/octet-stream'}  "
   ],
   "metadata": {
    "collapsed": false,
    "pycharm": {
     "name": "#%%\n",
     "is_executing": false
    }
   }
  },
  {
   "cell_type": "code",
   "execution_count": 5,
   "outputs": [],
   "source": [
    "def get_license(img):\n",
    "    img_encode = cv2.imencode('.jpg', img)[1]       # 將 img 編碼為 jpg 格式，[1]返回資料, [0]返回是否成功\n",
    "    img_bytes = img_encode.tobytes()                # 再將資料轉為 bytes, 此即為要傳送的資料\n",
    "    r1 = requests.post(recog_url,            # 發出 POST \n",
    "                              headers = headers_stream, \n",
    "                              data = img_bytes)\n",
    "    if r1.status_code != 202:                # 202 代表接受請求\n",
    "        print(r1.json())\n",
    "        return '請求失敗'\n",
    "    #--↓↓辨識請求成功↓↓--#\n",
    "    result_url = r1.headers['Operation-Location'] # 取得查看結果的請求路徑\n",
    "    r2 = requests.get(result_url, headers = headers) # 發出 GET 請求\n",
    "    while r2.status_code == 200 and r2.json()['status'] != 'Succeeded':\n",
    "        r2 = requests.get(result_url, headers = headers)    # 繼續發出 GET\n",
    "        time.sleep(0.5)\n",
    "        print('status: ', r2.json()['status'])     \n",
    "    #--↓↓辨識完成↓↓--#\n",
    "    carcard = ''  # 紀錄車牌\n",
    "    lines = r2.json()['recognitionResult']['lines']\n",
    "    for i in range(len(lines)):\n",
    "        text = lines[i]['text'] # 取得辨識文字\n",
    "        m = re.match(r'^[\\w]{2,4}[-. ][\\w]{2,4}$', text)    # 匹配是否為車牌格式\n",
    "        if m != None:   # 匹配成功\n",
    "            carcard = m.group()\n",
    "            return carcard\n",
    "    if carcard == '':   # \n",
    "        return '找不到車牌'"
   ],
   "metadata": {
    "collapsed": false,
    "pycharm": {
     "name": "#%%\n",
     "is_executing": false
    }
   }
  },
  {
   "cell_type": "code",
   "execution_count": 6,
   "outputs": [
    {
     "name": "stdout",
     "text": [
      "status:  Start\n讀取圖片失敗\n"
     ],
     "output_type": "stream"
    }
   ],
   "source": [
    "try:\n",
    "    img = cv2.imread('car5.jpg') \n",
    "    print('status:  Start')\n",
    "    text = get_license(img)      \n",
    "    print('車牌：', text)\n",
    "    plt.imshow(img)\n",
    "    plt.xticks([]), plt.yticks([])  \n",
    "    plt.show()\n",
    "    cv2.waitKey(0)              \n",
    "    cv2.destroyAllWindows()    \n",
    "except:\n",
    "    print('讀取圖片失敗')\n"
   ],
   "metadata": {
    "collapsed": false,
    "pycharm": {
     "name": "#%%\n",
     "is_executing": false
    }
   }
  }
 ],
 "metadata": {
  "language_info": {
   "codemirror_mode": {
    "name": "ipython",
    "version": 2
   },
   "file_extension": ".py",
   "mimetype": "text/x-python",
   "name": "python",
   "nbconvert_exporter": "python",
   "pygments_lexer": "ipython2",
   "version": "2.7.6"
  },
  "kernelspec": {
   "name": "python3",
   "language": "python",
   "display_name": "Python 3"
  },
  "pycharm": {
   "stem_cell": {
    "cell_type": "raw",
    "source": [],
    "metadata": {
     "collapsed": false
    }
   }
  }
 },
 "nbformat": 4,
 "nbformat_minor": 0
}